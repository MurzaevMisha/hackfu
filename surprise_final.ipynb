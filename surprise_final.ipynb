{
 "cells": [
  {
   "cell_type": "code",
   "execution_count": null,
   "id": "a932558f-df9f-4533-ae68-5a122a6defd7",
   "metadata": {},
   "outputs": [],
   "source": [
    "import numpy as np\n",
    "import pandas as pd\n",
    "from tqdm import tqdm\n",
    "\n",
    "from surprise import Reader, Dataset, SVDpp"
   ]
  },
  {
   "cell_type": "code",
   "execution_count": null,
   "id": "b2e4ae9e-9c09-440b-94ae-416a62bf2a92",
   "metadata": {},
   "outputs": [],
   "source": [
    "df_train = pd.read_csv('train.csv')\n",
    "df_train['feedback'] = df_train['feedback'].apply(lambda x: -1 if x == \"D\" else 1)\n",
    "\n",
    "print(df_train.shape)\n",
    "\n",
    "df_train.head()"
   ]
  },
  {
   "cell_type": "code",
   "execution_count": null,
   "id": "c7bf51e3-1d8c-4151-870d-feb8cbeacb7a",
   "metadata": {},
   "outputs": [],
   "source": [
    "reader = Reader(rating_scale=(df_train.feedback.min(), df_train.feedback.max()))\n",
    "data = Dataset.load_from_df(df_train[['userId', 'topicId', 'feedback']], reader)"
   ]
  },
  {
   "cell_type": "code",
   "execution_count": null,
   "id": "67a80a2b-0237-46f1-9062-c311afe53878",
   "metadata": {},
   "outputs": [],
   "source": [
    "n_factors = 32\n",
    "n_epochs = 20\n",
    "random_state = 2005\n",
    "\n",
    "algo = SVDpp(n_factors=n_factors, n_epochs=n_epochs, random_state=random_state)\n",
    "\n",
    "algo.fit(data.build_full_trainset())"
   ]
  },
  {
   "cell_type": "code",
   "execution_count": null,
   "id": "1c0a4c8c-c1b4-4561-abc4-c078561065f2",
   "metadata": {},
   "outputs": [],
   "source": [
    "df_test = pd.read_csv('test.csv')\n",
    "df_test = df_test.reset_index()\n",
    "print(df_test.shape)\n",
    "df_test.head()"
   ]
  },
  {
   "cell_type": "code",
   "execution_count": null,
   "id": "dff9093a-04d7-471f-b982-d603b1f64e25",
   "metadata": {},
   "outputs": [],
   "source": [
    "result = []\n",
    "preds = []\n",
    "\n",
    "for _, row in df_test.iterrows():\n",
    "    pred = algo.predict(uid=row.userId, iid=row.topicId).est\n",
    "    result.append(\"D\" if pred < 0 else \"L\")\n",
    "    preds.append(pred)"
   ]
  },
  {
   "cell_type": "code",
   "execution_count": null,
   "id": "18d37a14-cb7e-4ed2-863b-8d6e36d5cec8",
   "metadata": {},
   "outputs": [],
   "source": [
    "with open(f'surprise_{n_factors}_{n_epochs}_{random_state}.txt', 'w') as fp:\n",
    "    fp.write(\"\\n\".join(result))\n",
    "\n",
    "np.save(f'surprise_{n_factors}_{n_epochs}_{random_state}_preds.npy', np.array(preds).astype(np.float16))"
   ]
  },
  {
   "cell_type": "code",
   "execution_count": null,
   "id": "e181eddd-b574-421e-aae7-ba0ff275175d",
   "metadata": {},
   "outputs": [],
   "source": []
  },
  {
   "cell_type": "code",
   "execution_count": null,
   "id": "6a507ccd-3597-4d53-b1c6-5c7b0d480ae5",
   "metadata": {},
   "outputs": [],
   "source": []
  },
  {
   "cell_type": "code",
   "execution_count": null,
   "id": "5d3e2ddb-28cf-40e2-9a28-5984e41dadd4",
   "metadata": {},
   "outputs": [],
   "source": [
    "with open('surprise_8_10_2005_preds.npy', 'rb') as f:\n",
    "    surprise_8_10_2005_preds = np.load(f)\n",
    "    \n",
    "with open('surprise_16_10_2005_preds.npy', 'rb') as f:\n",
    "    surprise_16_10_2005_preds = np.load(f)\n",
    "\n",
    "with open('surprise_8_10_0_preds.npy', 'rb') as f:\n",
    "    surprise_8_10_0_preds = np.load(f)"
   ]
  },
  {
   "cell_type": "code",
   "execution_count": null,
   "id": "090ab6fd-36f1-4869-be16-858ebf03f84a",
   "metadata": {},
   "outputs": [],
   "source": [
    "predictions = [surprise_8_10_2005_preds, \n",
    "               surprise_16_10_2005_preds,\n",
    "               surprise_8_10_0_preds]"
   ]
  },
  {
   "cell_type": "code",
   "execution_count": null,
   "id": "ecf93cd6-2b22-4f4c-b7b0-80b95c4cf7ab",
   "metadata": {},
   "outputs": [],
   "source": [
    "df_test['feedback'] = np.zeros((len(df_test), 1), dtype=float)\n",
    "for pred in predictions:\n",
    "    df_test['feedback'] += pred / len(predictions)"
   ]
  },
  {
   "cell_type": "code",
   "execution_count": null,
   "id": "a025ee2c-966d-47fc-80a5-4f02a17e6c62",
   "metadata": {},
   "outputs": [],
   "source": [
    "predict = df_test['feedback'].apply(lambda x: 'L' if x > -0.1 else 'D')\n",
    "predict.to_csv('surprise_top3_01_v3.csv', index=False, header=False)"
   ]
  }
 ],
 "metadata": {
  "kernelspec": {
   "display_name": "p38",
   "language": "python",
   "name": "p38"
  },
  "language_info": {
   "codemirror_mode": {
    "name": "ipython",
    "version": 3
   },
   "file_extension": ".py",
   "mimetype": "text/x-python",
   "name": "python",
   "nbconvert_exporter": "python",
   "pygments_lexer": "ipython3",
   "version": "3.8.16"
  }
 },
 "nbformat": 4,
 "nbformat_minor": 5
}
