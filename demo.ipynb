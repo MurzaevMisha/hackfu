{
 "cells": [
  {
   "cell_type": "markdown",
   "id": "649a3021-ef47-4374-9ad8-6c3eadfe914f",
   "metadata": {},
   "source": [
    "## Посмотреть содержимое датасета задачи"
   ]
  },
  {
   "cell_type": "code",
   "execution_count": 3,
   "id": "a3389c60-83f4-4339-b424-68cf583ab729",
   "metadata": {},
   "outputs": [
    {
     "data": {
      "text/plain": [
       "['sample_submission.csv', 'test_customer_ids.csv', 'train_df.tsv']"
      ]
     },
     "execution_count": 3,
     "metadata": {},
     "output_type": "execute_result"
    }
   ],
   "source": [
    "import os\n",
    "\n",
    "DATASET_ROOT = \"../dataset\"\n",
    "TASK_DATASET = os.path.join(DATASET_ROOT, \"ok-group-recommend\")\n",
    "\n",
    "os.listdir(TASK_DATASET)"
   ]
  },
  {
   "cell_type": "markdown",
   "id": "d64e5e9d-12a1-46e8-b8cf-cf666e05d162",
   "metadata": {},
   "source": [
    "## Прочитать содержимое тестового набора и вывести первые 5 строк"
   ]
  },
  {
   "cell_type": "code",
   "execution_count": 37,
   "id": "b6d2c8eb-96d0-4833-874d-9e22f84daace",
   "metadata": {},
   "outputs": [
    {
     "data": {
      "text/html": [
       "<div>\n",
       "<style scoped>\n",
       "    .dataframe tbody tr th:only-of-type {\n",
       "        vertical-align: middle;\n",
       "    }\n",
       "\n",
       "    .dataframe tbody tr th {\n",
       "        vertical-align: top;\n",
       "    }\n",
       "\n",
       "    .dataframe thead th {\n",
       "        text-align: right;\n",
       "    }\n",
       "</style>\n",
       "<table border=\"1\" class=\"dataframe\">\n",
       "  <thead>\n",
       "    <tr style=\"text-align: right;\">\n",
       "      <th></th>\n",
       "      <th>customer_id</th>\n",
       "    </tr>\n",
       "  </thead>\n",
       "  <tbody>\n",
       "    <tr>\n",
       "      <th>0</th>\n",
       "      <td>d811a09d435ac2d1b1ed46e272405af10933b4711f4564...</td>\n",
       "    </tr>\n",
       "    <tr>\n",
       "      <th>1</th>\n",
       "      <td>73821118fc33500efaa6b1adf8ab0e9d314abb15f62603...</td>\n",
       "    </tr>\n",
       "    <tr>\n",
       "      <th>2</th>\n",
       "      <td>6381971c002097a94b8d7a03d9dc3e9ff7872a52c4764a...</td>\n",
       "    </tr>\n",
       "    <tr>\n",
       "      <th>3</th>\n",
       "      <td>250d49b476af0c7d2b23dd39cbb6edff39d44c64f8ebc0...</td>\n",
       "    </tr>\n",
       "    <tr>\n",
       "      <th>4</th>\n",
       "      <td>2da339a6bfe7791329ca8eb0a11544d4a9fb4c89572716...</td>\n",
       "    </tr>\n",
       "  </tbody>\n",
       "</table>\n",
       "</div>"
      ],
      "text/plain": [
       "                                         customer_id\n",
       "0  d811a09d435ac2d1b1ed46e272405af10933b4711f4564...\n",
       "1  73821118fc33500efaa6b1adf8ab0e9d314abb15f62603...\n",
       "2  6381971c002097a94b8d7a03d9dc3e9ff7872a52c4764a...\n",
       "3  250d49b476af0c7d2b23dd39cbb6edff39d44c64f8ebc0...\n",
       "4  2da339a6bfe7791329ca8eb0a11544d4a9fb4c89572716..."
      ]
     },
     "execution_count": 37,
     "metadata": {},
     "output_type": "execute_result"
    }
   ],
   "source": [
    "import pandas as pd\n",
    "\n",
    "test = pd.read_csv(os.path.join(TASK_DATASET, \"test_customer_ids.csv\"))\n",
    "test.head(5)"
   ]
  },
  {
   "cell_type": "markdown",
   "id": "48bc3874-1918-4171-9cb9-953b0250ff27",
   "metadata": {},
   "source": [
    "## Прочитать файл примера решения и вывести первые 5 строк"
   ]
  },
  {
   "cell_type": "markdown",
   "id": "008d4fd8-bb1f-44f0-a344-9500f02bca8a",
   "metadata": {},
   "source": [
    "## Реализовать код, формирующий файл решения\n",
    "В демо-варианте делается простое копирование примера"
   ]
  },
  {
   "cell_type": "code",
   "execution_count": 5,
   "id": "8bed7a6d-e0f0-440a-ae8f-930797c122e4",
   "metadata": {},
   "outputs": [
    {
     "data": {
      "text/html": [
       "<div>\n",
       "<style scoped>\n",
       "    .dataframe tbody tr th:only-of-type {\n",
       "        vertical-align: middle;\n",
       "    }\n",
       "\n",
       "    .dataframe tbody tr th {\n",
       "        vertical-align: top;\n",
       "    }\n",
       "\n",
       "    .dataframe thead th {\n",
       "        text-align: right;\n",
       "    }\n",
       "</style>\n",
       "<table border=\"1\" class=\"dataframe\">\n",
       "  <thead>\n",
       "    <tr style=\"text-align: right;\">\n",
       "      <th></th>\n",
       "      <th>Unnamed: 0</th>\n",
       "      <th>community_id</th>\n",
       "      <th>description</th>\n",
       "      <th>customers_count</th>\n",
       "      <th>messages_count</th>\n",
       "      <th>type</th>\n",
       "      <th>region_id</th>\n",
       "      <th>themeid</th>\n",
       "      <th>business_category</th>\n",
       "      <th>business_parent</th>\n",
       "      <th>customer_id</th>\n",
       "      <th>status</th>\n",
       "      <th>join_request_date</th>\n",
       "    </tr>\n",
       "  </thead>\n",
       "  <tbody>\n",
       "    <tr>\n",
       "      <th>0</th>\n",
       "      <td>0</td>\n",
       "      <td>00dbc35ec26c5b6452a3259194b2d2f74eae7141d2bc75...</td>\n",
       "      <td>Ванга сказала: \"Выживет пчела - выживет челове...</td>\n",
       "      <td>2966</td>\n",
       "      <td>1</td>\n",
       "      <td>7</td>\n",
       "      <td>NaN</td>\n",
       "      <td>NaN</td>\n",
       "      <td>NaN</td>\n",
       "      <td>NaN</td>\n",
       "      <td>947224211267aefcc2e3e9c524fdf46ce329bc638e8bf1...</td>\n",
       "      <td>A</td>\n",
       "      <td>NaN</td>\n",
       "    </tr>\n",
       "    <tr>\n",
       "      <th>1</th>\n",
       "      <td>1</td>\n",
       "      <td>06107f1eae304c45d3e6324cc86f7d39662793a53b159b...</td>\n",
       "      <td>NaN</td>\n",
       "      <td>8982</td>\n",
       "      <td>2</td>\n",
       "      <td>7</td>\n",
       "      <td>1.042403e+10</td>\n",
       "      <td>246.0</td>\n",
       "      <td>NaN</td>\n",
       "      <td>NaN</td>\n",
       "      <td>b935c3390d82df612de19591d2dd16e1eff8e660746bb3...</td>\n",
       "      <td>A</td>\n",
       "      <td>NaN</td>\n",
       "    </tr>\n",
       "    <tr>\n",
       "      <th>2</th>\n",
       "      <td>2</td>\n",
       "      <td>06107f1eae304c45d3e6324cc86f7d39662793a53b159b...</td>\n",
       "      <td>NaN</td>\n",
       "      <td>8982</td>\n",
       "      <td>2</td>\n",
       "      <td>7</td>\n",
       "      <td>1.042403e+10</td>\n",
       "      <td>246.0</td>\n",
       "      <td>NaN</td>\n",
       "      <td>NaN</td>\n",
       "      <td>ff873dee9234ee290d92eb6c15d7179aabf0653dbed3b3...</td>\n",
       "      <td>A</td>\n",
       "      <td>NaN</td>\n",
       "    </tr>\n",
       "    <tr>\n",
       "      <th>3</th>\n",
       "      <td>3</td>\n",
       "      <td>06107f1eae304c45d3e6324cc86f7d39662793a53b159b...</td>\n",
       "      <td>NaN</td>\n",
       "      <td>8982</td>\n",
       "      <td>2</td>\n",
       "      <td>7</td>\n",
       "      <td>1.042403e+10</td>\n",
       "      <td>246.0</td>\n",
       "      <td>NaN</td>\n",
       "      <td>NaN</td>\n",
       "      <td>737ef0e849feda6cdfd350d19fcedaf17aebb757c0a1fc...</td>\n",
       "      <td>A</td>\n",
       "      <td>NaN</td>\n",
       "    </tr>\n",
       "    <tr>\n",
       "      <th>4</th>\n",
       "      <td>4</td>\n",
       "      <td>097e4dae68029ecc3c6183ed4386aff71dcac227cbaff7...</td>\n",
       "      <td>Читать внимательно!!! Причины попадания в чёрн...</td>\n",
       "      <td>1035</td>\n",
       "      <td>1</td>\n",
       "      <td>7</td>\n",
       "      <td>1.041779e+10</td>\n",
       "      <td>NaN</td>\n",
       "      <td>FAN_CLUB</td>\n",
       "      <td>BLOG</td>\n",
       "      <td>780fb8c178af972826ac0f84e42ac4c6c1dcdeeec0c4dd...</td>\n",
       "      <td>A</td>\n",
       "      <td>NaN</td>\n",
       "    </tr>\n",
       "  </tbody>\n",
       "</table>\n",
       "</div>"
      ],
      "text/plain": [
       "   Unnamed: 0                                       community_id  \\\n",
       "0           0  00dbc35ec26c5b6452a3259194b2d2f74eae7141d2bc75...   \n",
       "1           1  06107f1eae304c45d3e6324cc86f7d39662793a53b159b...   \n",
       "2           2  06107f1eae304c45d3e6324cc86f7d39662793a53b159b...   \n",
       "3           3  06107f1eae304c45d3e6324cc86f7d39662793a53b159b...   \n",
       "4           4  097e4dae68029ecc3c6183ed4386aff71dcac227cbaff7...   \n",
       "\n",
       "                                         description  customers_count  \\\n",
       "0  Ванга сказала: \"Выживет пчела - выживет челове...             2966   \n",
       "1                                                NaN             8982   \n",
       "2                                                NaN             8982   \n",
       "3                                                NaN             8982   \n",
       "4  Читать внимательно!!! Причины попадания в чёрн...             1035   \n",
       "\n",
       "   messages_count  type     region_id  themeid business_category  \\\n",
       "0               1     7           NaN      NaN               NaN   \n",
       "1               2     7  1.042403e+10    246.0               NaN   \n",
       "2               2     7  1.042403e+10    246.0               NaN   \n",
       "3               2     7  1.042403e+10    246.0               NaN   \n",
       "4               1     7  1.041779e+10      NaN          FAN_CLUB   \n",
       "\n",
       "  business_parent                                        customer_id status  \\\n",
       "0             NaN  947224211267aefcc2e3e9c524fdf46ce329bc638e8bf1...      A   \n",
       "1             NaN  b935c3390d82df612de19591d2dd16e1eff8e660746bb3...      A   \n",
       "2             NaN  ff873dee9234ee290d92eb6c15d7179aabf0653dbed3b3...      A   \n",
       "3             NaN  737ef0e849feda6cdfd350d19fcedaf17aebb757c0a1fc...      A   \n",
       "4            BLOG  780fb8c178af972826ac0f84e42ac4c6c1dcdeeec0c4dd...      A   \n",
       "\n",
       "   join_request_date  \n",
       "0                NaN  \n",
       "1                NaN  \n",
       "2                NaN  \n",
       "3                NaN  \n",
       "4                NaN  "
      ]
     },
     "execution_count": 5,
     "metadata": {},
     "output_type": "execute_result"
    }
   ],
   "source": [
    "df = pd.read_csv(os.path.join(TASK_DATASET, \"train_df.tsv\"), sep='\\t')\n",
    "df.head(5)"
   ]
  },
  {
   "cell_type": "code",
   "execution_count": 6,
   "id": "e9683eae-19c7-4f82-b464-3bcf9943015d",
   "metadata": {},
   "outputs": [],
   "source": [
    "df = df.drop(['description', 'customers_count', 'messages_count', 'type', 'region_id', 'themeid', 'business_category',\n",
    "             'business_parent', 'join_request_date'], axis=1)"
   ]
  },
  {
   "cell_type": "code",
   "execution_count": 7,
   "id": "a27b315c-8724-482e-a0ee-78bb3b1699e7",
   "metadata": {},
   "outputs": [],
   "source": [
    "df = df.drop(['Unnamed: 0'], axis=1)"
   ]
  },
  {
   "cell_type": "code",
   "execution_count": 8,
   "id": "67a66358-ab98-4f80-bf14-f5de36d43d75",
   "metadata": {},
   "outputs": [],
   "source": [
    "df = df.drop(['status'], axis=1)"
   ]
  },
  {
   "cell_type": "code",
   "execution_count": 9,
   "id": "36cdc91c-b8d1-4adf-9bb6-d659ec69f197",
   "metadata": {},
   "outputs": [],
   "source": [
    "comm = pd.DataFrame(df['community_id'].unique()).rename(columns={0: 'community_id'})\n",
    "comm['community_id_new'] = comm.index\n",
    "cust = pd.DataFrame(df['customer_id'].unique()).rename(columns={0: 'customer_id'})\n",
    "cust['customer_id_new'] = cust.index"
   ]
  },
  {
   "cell_type": "code",
   "execution_count": 10,
   "id": "989bff80-0b76-4356-a28e-1f9c31dce468",
   "metadata": {},
   "outputs": [],
   "source": [
    "df = pd.merge(df, comm)\n",
    "df = pd.merge(df, cust)"
   ]
  },
  {
   "cell_type": "code",
   "execution_count": 11,
   "id": "6140ebe8-842d-4756-a549-41db64c390d5",
   "metadata": {},
   "outputs": [],
   "source": [
    "cust_l = list(cust['customer_id'])"
   ]
  },
  {
   "cell_type": "code",
   "execution_count": 36,
   "id": "bb8913ab-b2dd-4868-837a-4d71ed6bf766",
   "metadata": {},
   "outputs": [],
   "source": [
    "comm_l = list(comm['community_id'])"
   ]
  },
  {
   "cell_type": "code",
   "execution_count": 12,
   "id": "c7c09ba8-c155-474f-93c3-1dd12f24b81c",
   "metadata": {},
   "outputs": [],
   "source": [
    "from implicit.nearest_neighbours import (\n",
    "    BM25Recommender,\n",
    "    CosineRecommender,\n",
    "    TFIDFRecommender,\n",
    "    bm25_weight,\n",
    ")\n",
    "from scipy.sparse import csr_matrix\n",
    "from lightfm.cross_validation import random_train_test_split\n",
    "from sklearn.model_selection import train_test_split\n",
    "import numpy as np"
   ]
  },
  {
   "cell_type": "code",
   "execution_count": 13,
   "id": "ef7f1905-bcf8-4cf9-8576-cc278a7b7379",
   "metadata": {},
   "outputs": [],
   "source": [
    "data_full = csr_matrix((np.ones((df.shape[0],)).astype(float),\n",
    "                        (df['customer_id_new'].values,\n",
    "                        df['community_id_new'].values)))"
   ]
  },
  {
   "cell_type": "code",
   "execution_count": 14,
   "id": "f5a4b9d0-f319-4c1a-9681-50919974e006",
   "metadata": {},
   "outputs": [],
   "source": [
    "data_train, data_test = random_train_test_split(data_full)"
   ]
  },
  {
   "cell_type": "code",
   "execution_count": 16,
   "id": "641cb6f4-dc14-4926-a633-bdbe32b7242e",
   "metadata": {},
   "outputs": [
    {
     "name": "stderr",
     "output_type": "stream",
     "text": [
      "/opt/conda/lib/python3.11/site-packages/implicit/utils.py:164: ParameterWarning: Method expects CSR input, and was passed coo_matrix instead. Converting to CSR took 0.7726864814758301 seconds\n",
      "  warnings.warn(\n"
     ]
    },
    {
     "data": {
      "application/vnd.jupyter.widget-view+json": {
       "model_id": "69dcf3f53d294804837a27f48baf352f",
       "version_major": 2,
       "version_minor": 0
      },
      "text/plain": [
       "  0%|          | 0/149114 [00:00<?, ?it/s]"
      ]
     },
     "metadata": {},
     "output_type": "display_data"
    },
    {
     "name": "stderr",
     "output_type": "stream",
     "text": [
      "IOPub message rate exceeded.\n",
      "The Jupyter server will temporarily stop sending output\n",
      "to the client in order to avoid crashing it.\n",
      "To change this limit, set the config variable\n",
      "`--ServerApp.iopub_msg_rate_limit`.\n",
      "\n",
      "Current values:\n",
      "ServerApp.iopub_msg_rate_limit=1000.0 (msgs/sec)\n",
      "ServerApp.rate_limit_window=3.0 (secs)\n",
      "\n"
     ]
    }
   ],
   "source": [
    "cr = CosineRecommender()\n",
    "\n",
    "cr.fit(data_train)"
   ]
  },
  {
   "cell_type": "code",
   "execution_count": 18,
   "id": "a99cb9ed-beff-41bf-b5ad-cef7224688a0",
   "metadata": {},
   "outputs": [],
   "source": [
    "from tqdm import tqdm"
   ]
  },
  {
   "cell_type": "code",
   "execution_count": 19,
   "id": "0a44da3a-3b6b-478e-9969-b8b0c140e78b",
   "metadata": {},
   "outputs": [
    {
     "data": {
      "text/html": [
       "<div>\n",
       "<style scoped>\n",
       "    .dataframe tbody tr th:only-of-type {\n",
       "        vertical-align: middle;\n",
       "    }\n",
       "\n",
       "    .dataframe tbody tr th {\n",
       "        vertical-align: top;\n",
       "    }\n",
       "\n",
       "    .dataframe thead th {\n",
       "        text-align: right;\n",
       "    }\n",
       "</style>\n",
       "<table border=\"1\" class=\"dataframe\">\n",
       "  <thead>\n",
       "    <tr style=\"text-align: right;\">\n",
       "      <th></th>\n",
       "      <th>customer_id</th>\n",
       "    </tr>\n",
       "  </thead>\n",
       "  <tbody>\n",
       "    <tr>\n",
       "      <th>0</th>\n",
       "      <td>d811a09d435ac2d1b1ed46e272405af10933b4711f4564...</td>\n",
       "    </tr>\n",
       "    <tr>\n",
       "      <th>1</th>\n",
       "      <td>73821118fc33500efaa6b1adf8ab0e9d314abb15f62603...</td>\n",
       "    </tr>\n",
       "    <tr>\n",
       "      <th>2</th>\n",
       "      <td>6381971c002097a94b8d7a03d9dc3e9ff7872a52c4764a...</td>\n",
       "    </tr>\n",
       "    <tr>\n",
       "      <th>3</th>\n",
       "      <td>250d49b476af0c7d2b23dd39cbb6edff39d44c64f8ebc0...</td>\n",
       "    </tr>\n",
       "    <tr>\n",
       "      <th>4</th>\n",
       "      <td>2da339a6bfe7791329ca8eb0a11544d4a9fb4c89572716...</td>\n",
       "    </tr>\n",
       "    <tr>\n",
       "      <th>...</th>\n",
       "      <td>...</td>\n",
       "    </tr>\n",
       "    <tr>\n",
       "      <th>69041</th>\n",
       "      <td>606d6caf18a6209acaa46a1a0233a4bf22bc9885d70397...</td>\n",
       "    </tr>\n",
       "    <tr>\n",
       "      <th>69042</th>\n",
       "      <td>a71392c55f8bace9bd108a1acbf9c2335d700fb041966b...</td>\n",
       "    </tr>\n",
       "    <tr>\n",
       "      <th>69043</th>\n",
       "      <td>7b6d03389208df699aa116563dc5c45cbf5c725b47b415...</td>\n",
       "    </tr>\n",
       "    <tr>\n",
       "      <th>69044</th>\n",
       "      <td>8d1c564ba9f96dafb0a856fbc65fc4f9fc020863fe3b3f...</td>\n",
       "    </tr>\n",
       "    <tr>\n",
       "      <th>69045</th>\n",
       "      <td>f57918286b0047d2884e72631b65b4c7f13f5ffc697743...</td>\n",
       "    </tr>\n",
       "  </tbody>\n",
       "</table>\n",
       "<p>69046 rows × 1 columns</p>\n",
       "</div>"
      ],
      "text/plain": [
       "                                             customer_id\n",
       "0      d811a09d435ac2d1b1ed46e272405af10933b4711f4564...\n",
       "1      73821118fc33500efaa6b1adf8ab0e9d314abb15f62603...\n",
       "2      6381971c002097a94b8d7a03d9dc3e9ff7872a52c4764a...\n",
       "3      250d49b476af0c7d2b23dd39cbb6edff39d44c64f8ebc0...\n",
       "4      2da339a6bfe7791329ca8eb0a11544d4a9fb4c89572716...\n",
       "...                                                  ...\n",
       "69041  606d6caf18a6209acaa46a1a0233a4bf22bc9885d70397...\n",
       "69042  a71392c55f8bace9bd108a1acbf9c2335d700fb041966b...\n",
       "69043  7b6d03389208df699aa116563dc5c45cbf5c725b47b415...\n",
       "69044  8d1c564ba9f96dafb0a856fbc65fc4f9fc020863fe3b3f...\n",
       "69045  f57918286b0047d2884e72631b65b4c7f13f5ffc697743...\n",
       "\n",
       "[69046 rows x 1 columns]"
      ]
     },
     "execution_count": 19,
     "metadata": {},
     "output_type": "execute_result"
    }
   ],
   "source": [
    "test"
   ]
  },
  {
   "cell_type": "code",
   "execution_count": 49,
   "id": "441f9a3e-6049-40b6-9742-80b1926b177e",
   "metadata": {},
   "outputs": [],
   "source": [
    "sub = pd.DataFrame(columns=['customer_id','community_id_1','community_id_2','community_id_3','community_id_4','community_id_5','community_id_6','community_id_7'])"
   ]
  },
  {
   "cell_type": "code",
   "execution_count": 50,
   "id": "7c8ee029-125f-41b1-a442-b646a5f47bc5",
   "metadata": {},
   "outputs": [
    {
     "data": {
      "text/html": [
       "<div>\n",
       "<style scoped>\n",
       "    .dataframe tbody tr th:only-of-type {\n",
       "        vertical-align: middle;\n",
       "    }\n",
       "\n",
       "    .dataframe tbody tr th {\n",
       "        vertical-align: top;\n",
       "    }\n",
       "\n",
       "    .dataframe thead th {\n",
       "        text-align: right;\n",
       "    }\n",
       "</style>\n",
       "<table border=\"1\" class=\"dataframe\">\n",
       "  <thead>\n",
       "    <tr style=\"text-align: right;\">\n",
       "      <th></th>\n",
       "      <th>customer_id</th>\n",
       "      <th>community_id_1</th>\n",
       "      <th>community_id_2</th>\n",
       "      <th>community_id_3</th>\n",
       "      <th>community_id_4</th>\n",
       "      <th>community_id_5</th>\n",
       "      <th>community_id_6</th>\n",
       "      <th>community_id_7</th>\n",
       "    </tr>\n",
       "  </thead>\n",
       "  <tbody>\n",
       "  </tbody>\n",
       "</table>\n",
       "</div>"
      ],
      "text/plain": [
       "Empty DataFrame\n",
       "Columns: [customer_id, community_id_1, community_id_2, community_id_3, community_id_4, community_id_5, community_id_6, community_id_7]\n",
       "Index: []"
      ]
     },
     "execution_count": 50,
     "metadata": {},
     "output_type": "execute_result"
    }
   ],
   "source": [
    "sub"
   ]
  },
  {
   "cell_type": "code",
   "execution_count": 51,
   "id": "9f936fb0-29a0-4d45-a6d8-456d84c36c83",
   "metadata": {},
   "outputs": [
    {
     "name": "stderr",
     "output_type": "stream",
     "text": [
      "69046it [05:46, 199.41it/s]\n"
     ]
    }
   ],
   "source": [
    "for i, row in tqdm(test.iterrows()):\n",
    "    \n",
    "    id = cust_l.index(row['customer_id'])\n",
    "    #test['customer_id'][i] = id\n",
    "    rect = cr.recommend(id, data_full[id].astype(float))[0][:7]\n",
    "    rect = [row['customer_id']]+[comm_l[i] for i in rect]\n",
    "    sub.loc[len(sub)] = rect\n",
    "    \n",
    "    \n",
    "        \n"
   ]
  },
  {
   "cell_type": "code",
   "execution_count": 52,
   "id": "fa010d9f-2c9c-46db-b286-f436f68e71e0",
   "metadata": {},
   "outputs": [
    {
     "data": {
      "text/html": [
       "<div>\n",
       "<style scoped>\n",
       "    .dataframe tbody tr th:only-of-type {\n",
       "        vertical-align: middle;\n",
       "    }\n",
       "\n",
       "    .dataframe tbody tr th {\n",
       "        vertical-align: top;\n",
       "    }\n",
       "\n",
       "    .dataframe thead th {\n",
       "        text-align: right;\n",
       "    }\n",
       "</style>\n",
       "<table border=\"1\" class=\"dataframe\">\n",
       "  <thead>\n",
       "    <tr style=\"text-align: right;\">\n",
       "      <th></th>\n",
       "      <th>customer_id</th>\n",
       "      <th>community_id_1</th>\n",
       "      <th>community_id_2</th>\n",
       "      <th>community_id_3</th>\n",
       "      <th>community_id_4</th>\n",
       "      <th>community_id_5</th>\n",
       "      <th>community_id_6</th>\n",
       "      <th>community_id_7</th>\n",
       "    </tr>\n",
       "  </thead>\n",
       "  <tbody>\n",
       "    <tr>\n",
       "      <th>0</th>\n",
       "      <td>d811a09d435ac2d1b1ed46e272405af10933b4711f4564...</td>\n",
       "      <td>e2d8710c3ca6ccb07ca3fbf66f0530be94903a58f5c2a8...</td>\n",
       "      <td>39fb57eaf8ebcb8008e04b197aafee1b319a98be7c585b...</td>\n",
       "      <td>881ca660e8ae340c56dba18e4502c7c149846f2d11708d...</td>\n",
       "      <td>d6ee22c7c0561950b19f4d76342e00993eb90cc689c6da...</td>\n",
       "      <td>4efedd3dc8834de75c0def70c38eee9e71a2ab899c0869...</td>\n",
       "      <td>b22e62fafd0d39725937879df9fcb9412432b9ff5cf009...</td>\n",
       "      <td>afcc530458d5118edd3fba7b2a885655626e9ee9cf1634...</td>\n",
       "    </tr>\n",
       "    <tr>\n",
       "      <th>1</th>\n",
       "      <td>73821118fc33500efaa6b1adf8ab0e9d314abb15f62603...</td>\n",
       "      <td>fc781628c86a7ee722f0efc9b75c9bf5a1360855a1e665...</td>\n",
       "      <td>d1af495ca20772cd9fcb43e8c27da695b5e9d93c64fc39...</td>\n",
       "      <td>f37f3f1b66e18fc5a425e338baced679c264de8e995e36...</td>\n",
       "      <td>53747ccd59fc17eac767624975cdd2de14aa6efa6090ae...</td>\n",
       "      <td>0380de4e396e8d4bd903d58299f67d06a84d9e8350250a...</td>\n",
       "      <td>c1ecc505d7c96ebbbc12129592f02928806dce4ade2023...</td>\n",
       "      <td>a437b788fc91efab69b24b19e18d88142667d0fc39c48a...</td>\n",
       "    </tr>\n",
       "    <tr>\n",
       "      <th>2</th>\n",
       "      <td>6381971c002097a94b8d7a03d9dc3e9ff7872a52c4764a...</td>\n",
       "      <td>9ecd44db17abc1fc665d38db272893274d5761665eb27c...</td>\n",
       "      <td>d42e10f2610272c545292b60844df2eb7a3ba47d6b4829...</td>\n",
       "      <td>ff09872273583edd92b50c43ad4ba41ebb9fe0b1210791...</td>\n",
       "      <td>ce7a456428f786c44c3e27c039c4299885da5430ccfd05...</td>\n",
       "      <td>66d19c807bb7ea8a13c9fb8aab294b2380f5d4ecf8e953...</td>\n",
       "      <td>9b73d8f7440da961df0bc04a4ac228ee3f01123b5d19cc...</td>\n",
       "      <td>739bbe0a10ad6d28d092974c04d92626ae21e68b69dc24...</td>\n",
       "    </tr>\n",
       "    <tr>\n",
       "      <th>3</th>\n",
       "      <td>250d49b476af0c7d2b23dd39cbb6edff39d44c64f8ebc0...</td>\n",
       "      <td>2165f7bfb5b82ede0cf8f3be218c7f57ef2cd1e282ae9c...</td>\n",
       "      <td>a8b15b543469eebe27c67c0c5897f6dc18e160cc5997c0...</td>\n",
       "      <td>892f2c17a6b9684c4dfd9834c0c6c8e7694c9faa00a0b3...</td>\n",
       "      <td>16183b4e07446d00c10d26deb9a1d62814d67fb6039b59...</td>\n",
       "      <td>6729664ac03bd48062612647597252d30d097b79e8308b...</td>\n",
       "      <td>a8d0b95bb7330d3a1171c439c5db88e1a3671edfbca950...</td>\n",
       "      <td>7ed0a5203360da0630e5ad51f2037a4d81b97e000d1cf1...</td>\n",
       "    </tr>\n",
       "    <tr>\n",
       "      <th>4</th>\n",
       "      <td>2da339a6bfe7791329ca8eb0a11544d4a9fb4c89572716...</td>\n",
       "      <td>3823a5e13dfd871d3ff72d5a69af9b77466d604f43cecd...</td>\n",
       "      <td>4d7cf04c8e56f0797012064220d0a45509a1264bc17f58...</td>\n",
       "      <td>1717cd8dbd989b4bd56009c53db75d564b252a3f3ed722...</td>\n",
       "      <td>14d2fb073c9a2929f1fd9919cbbae50a5c597d2459d7f5...</td>\n",
       "      <td>b8ed0e918d9f11140c70ef08be19c197917f4f4455f255...</td>\n",
       "      <td>b927c9e7135a558e2ed237459ccf02230e6c2c3400f776...</td>\n",
       "      <td>2297e8137751faa879da9ceea4a47423a9eda35d9b0278...</td>\n",
       "    </tr>\n",
       "    <tr>\n",
       "      <th>...</th>\n",
       "      <td>...</td>\n",
       "      <td>...</td>\n",
       "      <td>...</td>\n",
       "      <td>...</td>\n",
       "      <td>...</td>\n",
       "      <td>...</td>\n",
       "      <td>...</td>\n",
       "      <td>...</td>\n",
       "    </tr>\n",
       "    <tr>\n",
       "      <th>69041</th>\n",
       "      <td>606d6caf18a6209acaa46a1a0233a4bf22bc9885d70397...</td>\n",
       "      <td>274445fd08bfa77e358b0599c1adb91e6900d58335f0bb...</td>\n",
       "      <td>face1187302b0000986e09146fe04bdb5f39c4cd0ab33a...</td>\n",
       "      <td>57d99404c90c9344d3aec2c15ffb7b1a0f46c8a4f7157a...</td>\n",
       "      <td>a372c294e86415520031005bba83bb11c94eab26b3727c...</td>\n",
       "      <td>00fb053b79e838767745c8aac82e1bb90efead133447ae...</td>\n",
       "      <td>bfbe0ab1789db400d4090745c5c54a6f09102048f04aa8...</td>\n",
       "      <td>8792b896fc5d399bbacc274bc5deac4f25f6caadbf28cb...</td>\n",
       "    </tr>\n",
       "    <tr>\n",
       "      <th>69042</th>\n",
       "      <td>a71392c55f8bace9bd108a1acbf9c2335d700fb041966b...</td>\n",
       "      <td>6570dd9605aa01ff78a0224a47cddc379bbf7b1db10d28...</td>\n",
       "      <td>8c3f63d3b0e551bbe6434b89cbc53045026a2a9e56276f...</td>\n",
       "      <td>e88c1aa3c9ca59917ddf7ecd022fa7da468fd3f342ae77...</td>\n",
       "      <td>8c5ff31e392d00ef67074b7a086ddd1df5a17cd2f27112...</td>\n",
       "      <td>ff5b7a1bc51537685973e6c31d8f92c55ac474a1da492e...</td>\n",
       "      <td>0aebd3b9934b9ec88cb78a99256bab2987798b93ff5a8d...</td>\n",
       "      <td>75f03af4f51c4c9fdf73fb9dd495964b776f2adc5b0154...</td>\n",
       "    </tr>\n",
       "    <tr>\n",
       "      <th>69043</th>\n",
       "      <td>7b6d03389208df699aa116563dc5c45cbf5c725b47b415...</td>\n",
       "      <td>5280bd59e190e9897b8481f1751f5508b76188da909b83...</td>\n",
       "      <td>f6a7fbac98fa02e64db8cb671ae5b529fa944d1f41a7f6...</td>\n",
       "      <td>ab5b19507c5a96c274a875f90d372882bde7956796df51...</td>\n",
       "      <td>e015fa5e6ef36af3ea62a91263c0fba81bd56794a9716a...</td>\n",
       "      <td>7723809a0370191d10dce06820ff9f132648491fd3b092...</td>\n",
       "      <td>de2b374004d89c21ab753e06dc73c2740403709edae8b2...</td>\n",
       "      <td>d7a49cba22dd3fba7de0ece2c8938d05ae38e03a08cb9f...</td>\n",
       "    </tr>\n",
       "    <tr>\n",
       "      <th>69044</th>\n",
       "      <td>8d1c564ba9f96dafb0a856fbc65fc4f9fc020863fe3b3f...</td>\n",
       "      <td>311db6eae03a8ae679ec1de8c2321a120938b3eaabec93...</td>\n",
       "      <td>3bfe238a1001285a82d9c8ca05d346322ff88d9a46e180...</td>\n",
       "      <td>84b501b676c52df6a4875c896d5b4dcc6130f5a69c8f73...</td>\n",
       "      <td>51b354f4db4e89508fad99ff9b466db96a307c9d1a1941...</td>\n",
       "      <td>7e00d5b79bd18c67a35bc4622a06c24d9b2a01e815ece5...</td>\n",
       "      <td>4cd507db4bc028745427889e579bbf3591662d2885a088...</td>\n",
       "      <td>6c34c5baa7127cb397315a4bd013db70872be8eee6dd2f...</td>\n",
       "    </tr>\n",
       "    <tr>\n",
       "      <th>69045</th>\n",
       "      <td>f57918286b0047d2884e72631b65b4c7f13f5ffc697743...</td>\n",
       "      <td>f524bddb23d5925c230663da1b793e2a7fbb7f284c96a2...</td>\n",
       "      <td>7966055cb0fa1df8f71a45512c93fb536944238270f6d1...</td>\n",
       "      <td>b8fd06b257b967a904e338a4a3fcc779c3a146e158a2cf...</td>\n",
       "      <td>948998e8d1b1feb378789dd714c8351f16c5960cd713e7...</td>\n",
       "      <td>d88eea575b8c17d14f4ca72eda133100c30305e9a80711...</td>\n",
       "      <td>2a3af04051be5228da923d2f10976324a40f23ba78958d...</td>\n",
       "      <td>3948221436b7cc82975cebb4737867cbac9f60c4466037...</td>\n",
       "    </tr>\n",
       "  </tbody>\n",
       "</table>\n",
       "<p>69046 rows × 8 columns</p>\n",
       "</div>"
      ],
      "text/plain": [
       "                                             customer_id  \\\n",
       "0      d811a09d435ac2d1b1ed46e272405af10933b4711f4564...   \n",
       "1      73821118fc33500efaa6b1adf8ab0e9d314abb15f62603...   \n",
       "2      6381971c002097a94b8d7a03d9dc3e9ff7872a52c4764a...   \n",
       "3      250d49b476af0c7d2b23dd39cbb6edff39d44c64f8ebc0...   \n",
       "4      2da339a6bfe7791329ca8eb0a11544d4a9fb4c89572716...   \n",
       "...                                                  ...   \n",
       "69041  606d6caf18a6209acaa46a1a0233a4bf22bc9885d70397...   \n",
       "69042  a71392c55f8bace9bd108a1acbf9c2335d700fb041966b...   \n",
       "69043  7b6d03389208df699aa116563dc5c45cbf5c725b47b415...   \n",
       "69044  8d1c564ba9f96dafb0a856fbc65fc4f9fc020863fe3b3f...   \n",
       "69045  f57918286b0047d2884e72631b65b4c7f13f5ffc697743...   \n",
       "\n",
       "                                          community_id_1  \\\n",
       "0      e2d8710c3ca6ccb07ca3fbf66f0530be94903a58f5c2a8...   \n",
       "1      fc781628c86a7ee722f0efc9b75c9bf5a1360855a1e665...   \n",
       "2      9ecd44db17abc1fc665d38db272893274d5761665eb27c...   \n",
       "3      2165f7bfb5b82ede0cf8f3be218c7f57ef2cd1e282ae9c...   \n",
       "4      3823a5e13dfd871d3ff72d5a69af9b77466d604f43cecd...   \n",
       "...                                                  ...   \n",
       "69041  274445fd08bfa77e358b0599c1adb91e6900d58335f0bb...   \n",
       "69042  6570dd9605aa01ff78a0224a47cddc379bbf7b1db10d28...   \n",
       "69043  5280bd59e190e9897b8481f1751f5508b76188da909b83...   \n",
       "69044  311db6eae03a8ae679ec1de8c2321a120938b3eaabec93...   \n",
       "69045  f524bddb23d5925c230663da1b793e2a7fbb7f284c96a2...   \n",
       "\n",
       "                                          community_id_2  \\\n",
       "0      39fb57eaf8ebcb8008e04b197aafee1b319a98be7c585b...   \n",
       "1      d1af495ca20772cd9fcb43e8c27da695b5e9d93c64fc39...   \n",
       "2      d42e10f2610272c545292b60844df2eb7a3ba47d6b4829...   \n",
       "3      a8b15b543469eebe27c67c0c5897f6dc18e160cc5997c0...   \n",
       "4      4d7cf04c8e56f0797012064220d0a45509a1264bc17f58...   \n",
       "...                                                  ...   \n",
       "69041  face1187302b0000986e09146fe04bdb5f39c4cd0ab33a...   \n",
       "69042  8c3f63d3b0e551bbe6434b89cbc53045026a2a9e56276f...   \n",
       "69043  f6a7fbac98fa02e64db8cb671ae5b529fa944d1f41a7f6...   \n",
       "69044  3bfe238a1001285a82d9c8ca05d346322ff88d9a46e180...   \n",
       "69045  7966055cb0fa1df8f71a45512c93fb536944238270f6d1...   \n",
       "\n",
       "                                          community_id_3  \\\n",
       "0      881ca660e8ae340c56dba18e4502c7c149846f2d11708d...   \n",
       "1      f37f3f1b66e18fc5a425e338baced679c264de8e995e36...   \n",
       "2      ff09872273583edd92b50c43ad4ba41ebb9fe0b1210791...   \n",
       "3      892f2c17a6b9684c4dfd9834c0c6c8e7694c9faa00a0b3...   \n",
       "4      1717cd8dbd989b4bd56009c53db75d564b252a3f3ed722...   \n",
       "...                                                  ...   \n",
       "69041  57d99404c90c9344d3aec2c15ffb7b1a0f46c8a4f7157a...   \n",
       "69042  e88c1aa3c9ca59917ddf7ecd022fa7da468fd3f342ae77...   \n",
       "69043  ab5b19507c5a96c274a875f90d372882bde7956796df51...   \n",
       "69044  84b501b676c52df6a4875c896d5b4dcc6130f5a69c8f73...   \n",
       "69045  b8fd06b257b967a904e338a4a3fcc779c3a146e158a2cf...   \n",
       "\n",
       "                                          community_id_4  \\\n",
       "0      d6ee22c7c0561950b19f4d76342e00993eb90cc689c6da...   \n",
       "1      53747ccd59fc17eac767624975cdd2de14aa6efa6090ae...   \n",
       "2      ce7a456428f786c44c3e27c039c4299885da5430ccfd05...   \n",
       "3      16183b4e07446d00c10d26deb9a1d62814d67fb6039b59...   \n",
       "4      14d2fb073c9a2929f1fd9919cbbae50a5c597d2459d7f5...   \n",
       "...                                                  ...   \n",
       "69041  a372c294e86415520031005bba83bb11c94eab26b3727c...   \n",
       "69042  8c5ff31e392d00ef67074b7a086ddd1df5a17cd2f27112...   \n",
       "69043  e015fa5e6ef36af3ea62a91263c0fba81bd56794a9716a...   \n",
       "69044  51b354f4db4e89508fad99ff9b466db96a307c9d1a1941...   \n",
       "69045  948998e8d1b1feb378789dd714c8351f16c5960cd713e7...   \n",
       "\n",
       "                                          community_id_5  \\\n",
       "0      4efedd3dc8834de75c0def70c38eee9e71a2ab899c0869...   \n",
       "1      0380de4e396e8d4bd903d58299f67d06a84d9e8350250a...   \n",
       "2      66d19c807bb7ea8a13c9fb8aab294b2380f5d4ecf8e953...   \n",
       "3      6729664ac03bd48062612647597252d30d097b79e8308b...   \n",
       "4      b8ed0e918d9f11140c70ef08be19c197917f4f4455f255...   \n",
       "...                                                  ...   \n",
       "69041  00fb053b79e838767745c8aac82e1bb90efead133447ae...   \n",
       "69042  ff5b7a1bc51537685973e6c31d8f92c55ac474a1da492e...   \n",
       "69043  7723809a0370191d10dce06820ff9f132648491fd3b092...   \n",
       "69044  7e00d5b79bd18c67a35bc4622a06c24d9b2a01e815ece5...   \n",
       "69045  d88eea575b8c17d14f4ca72eda133100c30305e9a80711...   \n",
       "\n",
       "                                          community_id_6  \\\n",
       "0      b22e62fafd0d39725937879df9fcb9412432b9ff5cf009...   \n",
       "1      c1ecc505d7c96ebbbc12129592f02928806dce4ade2023...   \n",
       "2      9b73d8f7440da961df0bc04a4ac228ee3f01123b5d19cc...   \n",
       "3      a8d0b95bb7330d3a1171c439c5db88e1a3671edfbca950...   \n",
       "4      b927c9e7135a558e2ed237459ccf02230e6c2c3400f776...   \n",
       "...                                                  ...   \n",
       "69041  bfbe0ab1789db400d4090745c5c54a6f09102048f04aa8...   \n",
       "69042  0aebd3b9934b9ec88cb78a99256bab2987798b93ff5a8d...   \n",
       "69043  de2b374004d89c21ab753e06dc73c2740403709edae8b2...   \n",
       "69044  4cd507db4bc028745427889e579bbf3591662d2885a088...   \n",
       "69045  2a3af04051be5228da923d2f10976324a40f23ba78958d...   \n",
       "\n",
       "                                          community_id_7  \n",
       "0      afcc530458d5118edd3fba7b2a885655626e9ee9cf1634...  \n",
       "1      a437b788fc91efab69b24b19e18d88142667d0fc39c48a...  \n",
       "2      739bbe0a10ad6d28d092974c04d92626ae21e68b69dc24...  \n",
       "3      7ed0a5203360da0630e5ad51f2037a4d81b97e000d1cf1...  \n",
       "4      2297e8137751faa879da9ceea4a47423a9eda35d9b0278...  \n",
       "...                                                  ...  \n",
       "69041  8792b896fc5d399bbacc274bc5deac4f25f6caadbf28cb...  \n",
       "69042  75f03af4f51c4c9fdf73fb9dd495964b776f2adc5b0154...  \n",
       "69043  d7a49cba22dd3fba7de0ece2c8938d05ae38e03a08cb9f...  \n",
       "69044  6c34c5baa7127cb397315a4bd013db70872be8eee6dd2f...  \n",
       "69045  3948221436b7cc82975cebb4737867cbac9f60c4466037...  \n",
       "\n",
       "[69046 rows x 8 columns]"
      ]
     },
     "execution_count": 52,
     "metadata": {},
     "output_type": "execute_result"
    }
   ],
   "source": [
    "sub"
   ]
  },
  {
   "cell_type": "code",
   "execution_count": 21,
   "id": "110cffce-2442-4ce6-803b-cf4b72b39a86",
   "metadata": {},
   "outputs": [
    {
     "data": {
      "text/html": [
       "<div>\n",
       "<style scoped>\n",
       "    .dataframe tbody tr th:only-of-type {\n",
       "        vertical-align: middle;\n",
       "    }\n",
       "\n",
       "    .dataframe tbody tr th {\n",
       "        vertical-align: top;\n",
       "    }\n",
       "\n",
       "    .dataframe thead th {\n",
       "        text-align: right;\n",
       "    }\n",
       "</style>\n",
       "<table border=\"1\" class=\"dataframe\">\n",
       "  <thead>\n",
       "    <tr style=\"text-align: right;\">\n",
       "      <th></th>\n",
       "      <th>customer_id</th>\n",
       "    </tr>\n",
       "  </thead>\n",
       "  <tbody>\n",
       "    <tr>\n",
       "      <th>0</th>\n",
       "      <td>18560</td>\n",
       "    </tr>\n",
       "    <tr>\n",
       "      <th>1</th>\n",
       "      <td>27401</td>\n",
       "    </tr>\n",
       "    <tr>\n",
       "      <th>2</th>\n",
       "      <td>14225</td>\n",
       "    </tr>\n",
       "    <tr>\n",
       "      <th>3</th>\n",
       "      <td>340</td>\n",
       "    </tr>\n",
       "    <tr>\n",
       "      <th>4</th>\n",
       "      <td>9820</td>\n",
       "    </tr>\n",
       "    <tr>\n",
       "      <th>...</th>\n",
       "      <td>...</td>\n",
       "    </tr>\n",
       "    <tr>\n",
       "      <th>69041</th>\n",
       "      <td>56961</td>\n",
       "    </tr>\n",
       "    <tr>\n",
       "      <th>69042</th>\n",
       "      <td>46391</td>\n",
       "    </tr>\n",
       "    <tr>\n",
       "      <th>69043</th>\n",
       "      <td>63840</td>\n",
       "    </tr>\n",
       "    <tr>\n",
       "      <th>69044</th>\n",
       "      <td>30935</td>\n",
       "    </tr>\n",
       "    <tr>\n",
       "      <th>69045</th>\n",
       "      <td>41401</td>\n",
       "    </tr>\n",
       "  </tbody>\n",
       "</table>\n",
       "<p>69046 rows × 1 columns</p>\n",
       "</div>"
      ],
      "text/plain": [
       "      customer_id\n",
       "0           18560\n",
       "1           27401\n",
       "2           14225\n",
       "3             340\n",
       "4            9820\n",
       "...           ...\n",
       "69041       56961\n",
       "69042       46391\n",
       "69043       63840\n",
       "69044       30935\n",
       "69045       41401\n",
       "\n",
       "[69046 rows x 1 columns]"
      ]
     },
     "execution_count": 21,
     "metadata": {},
     "output_type": "execute_result"
    }
   ],
   "source": [
    "test"
   ]
  },
  {
   "cell_type": "code",
   "execution_count": 31,
   "id": "7f00da18-fa80-428b-a9d9-cc6151f8f411",
   "metadata": {},
   "outputs": [],
   "source": [
    "rect = cr.recommend(18560, data_full[18560].astype(float))"
   ]
  },
  {
   "cell_type": "code",
   "execution_count": 32,
   "id": "4440a261-deb6-4c9b-9447-f3e02f723a9a",
   "metadata": {},
   "outputs": [
    {
     "data": {
      "text/plain": [
       "2"
      ]
     },
     "execution_count": 32,
     "metadata": {},
     "output_type": "execute_result"
    }
   ],
   "source": [
    "len(rect)"
   ]
  },
  {
   "cell_type": "code",
   "execution_count": 33,
   "id": "ef0f0b19-414b-4a90-854d-156057ba584e",
   "metadata": {},
   "outputs": [
    {
     "name": "stdout",
     "output_type": "stream",
     "text": [
      "[136663 103147 141575 139231 135217 134537 129758 117518  77786  13108]\n",
      "[0.73029674 0.49507377 0.48507125 0.48507125 0.48507125 0.48507125\n",
      " 0.48507125 0.48507125 0.48507125 0.43450579]\n"
     ]
    }
   ],
   "source": [
    "for i in rect:\n",
    "    print(i)\n",
    "    "
   ]
  },
  {
   "cell_type": "markdown",
   "id": "041d8704-bc09-41b6-aa02-9322f04c55ab",
   "metadata": {},
   "source": [
    "## Сохранить сформированное решение в файл"
   ]
  },
  {
   "cell_type": "code",
   "execution_count": 53,
   "id": "24e33e45-c40c-4dbb-a9c4-817cc4287dcb",
   "metadata": {},
   "outputs": [],
   "source": [
    "sub.to_csv(\"my_submit_demo_task.csv\", index=False)"
   ]
  },
  {
   "cell_type": "markdown",
   "id": "2e36c32c-8b9f-41bb-bc7b-06d71e92a7d7",
   "metadata": {},
   "source": [
    "## Заархивировать решение (если в условии задачи указано такое требование)"
   ]
  },
  {
   "cell_type": "code",
   "execution_count": 54,
   "id": "d003e558-c63b-4603-b5eb-9a2e86a97dc2",
   "metadata": {},
   "outputs": [
    {
     "name": "stdout",
     "output_type": "stream",
     "text": [
      "done\n"
     ]
    }
   ],
   "source": [
    "from zipfile import ZipFile, ZIP_DEFLATED\n",
    " \n",
    "with ZipFile(\"my_submit_demo_task.zip\", \"w\", compression=ZIP_DEFLATED, compresslevel=5) as submit_zip:\n",
    "    submit_zip.write(\"my_submit_demo_task.csv\")\n",
    "    print (\"done\")"
   ]
  },
  {
   "cell_type": "markdown",
   "id": "a77b307a-4405-4aac-a6e9-00dd058cfea7",
   "metadata": {},
   "source": [
    "## Остается скачать файл my_submit_demo_task.zip из каталога work и загрузить его в проверяющую систему All Cups\n",
    "\n",
    "Ссылка на задачу в All Cups: https://cups.online/ru/workareas/vserosii_2023/789/1539?is_sandbox=1"
   ]
  }
 ],
 "metadata": {
  "kernelspec": {
   "display_name": "Python 3 (ipykernel)",
   "language": "python",
   "name": "python3"
  },
  "language_info": {
   "codemirror_mode": {
    "name": "ipython",
    "version": 3
   },
   "file_extension": ".py",
   "mimetype": "text/x-python",
   "name": "python",
   "nbconvert_exporter": "python",
   "pygments_lexer": "ipython3",
   "version": "3.11.6"
  }
 },
 "nbformat": 4,
 "nbformat_minor": 5
}
