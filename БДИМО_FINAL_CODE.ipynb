{
  "cells": [
    {
      "cell_type": "markdown",
      "metadata": {
        "id": "gJF2LBaNpPSo"
      },
      "source": [
        "***Вообще самая топовая площадка для стримов - одноклассники. Рил, тебя не грeбут за бан ворды, нет рекламы. Соперников в плане онлайна не будет, ты всегда будешь топ. Там нереально почти забаниться. Есть тоже смайлики, как на твиче. Подключи Донаты и все. Так же, тебе не будут кидать АП за музыку и т.д. Это идеальная площадка, я считаю.***\n",
        "\n",
        "\n",
        "*какой-то умный чел*"
      ]
    },
    {
      "cell_type": "markdown",
      "metadata": {
        "id": "i1x8ytLxqxBy"
      },
      "source": [
        "## Импорты библиотек и файлов"
      ]
    },
    {
      "cell_type": "code",
      "execution_count": 1,
      "metadata": {
        "id": "D5bd2VlLpI9h"
      },
      "outputs": [],
      "source": [
        "import numpy as np\n",
        "import pandas as pd\n",
        "from tqdm import tqdm"
      ]
    },
    {
      "cell_type": "code",
      "execution_count": 2,
      "metadata": {
        "id": "a9zL6K0RqgsV"
      },
      "outputs": [],
      "source": [
        "main_path = ''"
      ]
    },
    {
      "cell_type": "code",
      "execution_count": 3,
      "metadata": {
        "id": "KoXGObTSqmKL"
      },
      "outputs": [],
      "source": [
        "topics_df = pd.read_csv(main_path + 'data/topics.csv')\n",
        "users_df = pd.read_csv(main_path + 'data/users.csv')\n",
        "train_df = pd.read_csv(main_path + 'data/train.csv')\n",
        "test_df = pd.read_csv(main_path + 'data/test.csv')"
      ]
    },
    {
      "cell_type": "markdown",
      "metadata": {
        "id": "2NwB3lGOq2Fh"
      },
      "source": [
        "## Табличечки"
      ]
    },
    {
      "cell_type": "markdown",
      "metadata": {
        "id": "Rbt3ZqZA6aKH"
      },
      "source": [
        "### Ultra Users Data (uud)"
      ]
    },
    {
      "cell_type": "markdown",
      "metadata": {
        "id": "bcnLRmfO6hQw"
      },
      "source": [
        "Ultra Users Data (uud) хранит в себе сводные данные активностей пользователя:\n",
        "\n",
        "\n",
        "*   likes - количество поставленных лайков\n",
        "*   dislikes - количество поставленных дизлайков\n",
        "*   reactions - количество поставленных реакций (train.csv)\n",
        "*   test_reactions - количество поставленных реакций (test.csv)\n",
        "*   total_reactions - количество реакций всего\n",
        "\n",
        "\n",
        "\n",
        "\n",
        "\n"
      ]
    },
    {
      "cell_type": "code",
      "execution_count": 4,
      "metadata": {
        "id": "u5x0j3XTqpOy"
      },
      "outputs": [],
      "source": [
        "user_likes = train_df[train_df['feedback'] == 'L'].groupby(by=['userId']).size().reset_index()\n",
        "user_dislikes = train_df[train_df['feedback'] == 'D'].groupby(by=['userId']).size().reset_index()\n",
        "user_test = test_df.groupby(by=['userId']).size().reset_index()\n",
        "\n",
        "uud = users_df.merge(user_likes, on='userId', how='left')\n",
        "uud = uud.merge(user_dislikes, on='userId', how='left')\n",
        "\n",
        "uud = uud.drop(columns=['birthDate', 'gender', 'locationId'])\n",
        "uud = uud.fillna(0).rename(columns={'0_x': 'likes',\n",
        "                                    '0_y': 'dislikes'})\n",
        "\n",
        "uud['reactions'] = uud['likes'] + uud['dislikes']\n",
        "\n",
        "uud = uud.merge(user_test, on='userId', how='left').fillna(0)\n",
        "uud = uud.rename(columns={0: 'test_reactions'})\n",
        "\n",
        "uud['total_reactions'] = uud['reactions'] + uud['test_reactions']"
      ]
    },
    {
      "cell_type": "code",
      "execution_count": 5,
      "metadata": {
        "colab": {
          "base_uri": "https://localhost:8080/",
          "height": 206
        },
        "id": "YhtDuvIL29TQ",
        "outputId": "5db5a88d-25cb-4d0f-a6c4-0c8e0d445e7b"
      },
      "outputs": [
        {
          "output_type": "execute_result",
          "data": {
            "text/plain": [
              "    userId  likes  dislikes  reactions  test_reactions  total_reactions\n",
              "0  2019458    1.0       1.0        2.0             0.0              2.0\n",
              "1    96675   12.0      12.0       24.0             0.0             24.0\n",
              "2  1378979    1.0       1.0        2.0             0.0              2.0\n",
              "3   540187    2.0       3.0        5.0             3.0              8.0\n",
              "4  1182831    2.0       2.0        4.0             0.0              4.0"
            ],
            "text/html": [
              "\n",
              "  <div id=\"df-1a03c1e2-90ef-41e4-a04e-8cfcee67ac49\">\n",
              "    <div class=\"colab-df-container\">\n",
              "      <div>\n",
              "<style scoped>\n",
              "    .dataframe tbody tr th:only-of-type {\n",
              "        vertical-align: middle;\n",
              "    }\n",
              "\n",
              "    .dataframe tbody tr th {\n",
              "        vertical-align: top;\n",
              "    }\n",
              "\n",
              "    .dataframe thead th {\n",
              "        text-align: right;\n",
              "    }\n",
              "</style>\n",
              "<table border=\"1\" class=\"dataframe\">\n",
              "  <thead>\n",
              "    <tr style=\"text-align: right;\">\n",
              "      <th></th>\n",
              "      <th>userId</th>\n",
              "      <th>likes</th>\n",
              "      <th>dislikes</th>\n",
              "      <th>reactions</th>\n",
              "      <th>test_reactions</th>\n",
              "      <th>total_reactions</th>\n",
              "    </tr>\n",
              "  </thead>\n",
              "  <tbody>\n",
              "    <tr>\n",
              "      <th>0</th>\n",
              "      <td>2019458</td>\n",
              "      <td>1.0</td>\n",
              "      <td>1.0</td>\n",
              "      <td>2.0</td>\n",
              "      <td>0.0</td>\n",
              "      <td>2.0</td>\n",
              "    </tr>\n",
              "    <tr>\n",
              "      <th>1</th>\n",
              "      <td>96675</td>\n",
              "      <td>12.0</td>\n",
              "      <td>12.0</td>\n",
              "      <td>24.0</td>\n",
              "      <td>0.0</td>\n",
              "      <td>24.0</td>\n",
              "    </tr>\n",
              "    <tr>\n",
              "      <th>2</th>\n",
              "      <td>1378979</td>\n",
              "      <td>1.0</td>\n",
              "      <td>1.0</td>\n",
              "      <td>2.0</td>\n",
              "      <td>0.0</td>\n",
              "      <td>2.0</td>\n",
              "    </tr>\n",
              "    <tr>\n",
              "      <th>3</th>\n",
              "      <td>540187</td>\n",
              "      <td>2.0</td>\n",
              "      <td>3.0</td>\n",
              "      <td>5.0</td>\n",
              "      <td>3.0</td>\n",
              "      <td>8.0</td>\n",
              "    </tr>\n",
              "    <tr>\n",
              "      <th>4</th>\n",
              "      <td>1182831</td>\n",
              "      <td>2.0</td>\n",
              "      <td>2.0</td>\n",
              "      <td>4.0</td>\n",
              "      <td>0.0</td>\n",
              "      <td>4.0</td>\n",
              "    </tr>\n",
              "  </tbody>\n",
              "</table>\n",
              "</div>\n",
              "      <button class=\"colab-df-convert\" onclick=\"convertToInteractive('df-1a03c1e2-90ef-41e4-a04e-8cfcee67ac49')\"\n",
              "              title=\"Convert this dataframe to an interactive table.\"\n",
              "              style=\"display:none;\">\n",
              "        \n",
              "  <svg xmlns=\"http://www.w3.org/2000/svg\" height=\"24px\"viewBox=\"0 0 24 24\"\n",
              "       width=\"24px\">\n",
              "    <path d=\"M0 0h24v24H0V0z\" fill=\"none\"/>\n",
              "    <path d=\"M18.56 5.44l.94 2.06.94-2.06 2.06-.94-2.06-.94-.94-2.06-.94 2.06-2.06.94zm-11 1L8.5 8.5l.94-2.06 2.06-.94-2.06-.94L8.5 2.5l-.94 2.06-2.06.94zm10 10l.94 2.06.94-2.06 2.06-.94-2.06-.94-.94-2.06-.94 2.06-2.06.94z\"/><path d=\"M17.41 7.96l-1.37-1.37c-.4-.4-.92-.59-1.43-.59-.52 0-1.04.2-1.43.59L10.3 9.45l-7.72 7.72c-.78.78-.78 2.05 0 2.83L4 21.41c.39.39.9.59 1.41.59.51 0 1.02-.2 1.41-.59l7.78-7.78 2.81-2.81c.8-.78.8-2.07 0-2.86zM5.41 20L4 18.59l7.72-7.72 1.47 1.35L5.41 20z\"/>\n",
              "  </svg>\n",
              "      </button>\n",
              "      \n",
              "  <style>\n",
              "    .colab-df-container {\n",
              "      display:flex;\n",
              "      flex-wrap:wrap;\n",
              "      gap: 12px;\n",
              "    }\n",
              "\n",
              "    .colab-df-convert {\n",
              "      background-color: #E8F0FE;\n",
              "      border: none;\n",
              "      border-radius: 50%;\n",
              "      cursor: pointer;\n",
              "      display: none;\n",
              "      fill: #1967D2;\n",
              "      height: 32px;\n",
              "      padding: 0 0 0 0;\n",
              "      width: 32px;\n",
              "    }\n",
              "\n",
              "    .colab-df-convert:hover {\n",
              "      background-color: #E2EBFA;\n",
              "      box-shadow: 0px 1px 2px rgba(60, 64, 67, 0.3), 0px 1px 3px 1px rgba(60, 64, 67, 0.15);\n",
              "      fill: #174EA6;\n",
              "    }\n",
              "\n",
              "    [theme=dark] .colab-df-convert {\n",
              "      background-color: #3B4455;\n",
              "      fill: #D2E3FC;\n",
              "    }\n",
              "\n",
              "    [theme=dark] .colab-df-convert:hover {\n",
              "      background-color: #434B5C;\n",
              "      box-shadow: 0px 1px 3px 1px rgba(0, 0, 0, 0.15);\n",
              "      filter: drop-shadow(0px 1px 2px rgba(0, 0, 0, 0.3));\n",
              "      fill: #FFFFFF;\n",
              "    }\n",
              "  </style>\n",
              "\n",
              "      <script>\n",
              "        const buttonEl =\n",
              "          document.querySelector('#df-1a03c1e2-90ef-41e4-a04e-8cfcee67ac49 button.colab-df-convert');\n",
              "        buttonEl.style.display =\n",
              "          google.colab.kernel.accessAllowed ? 'block' : 'none';\n",
              "\n",
              "        async function convertToInteractive(key) {\n",
              "          const element = document.querySelector('#df-1a03c1e2-90ef-41e4-a04e-8cfcee67ac49');\n",
              "          const dataTable =\n",
              "            await google.colab.kernel.invokeFunction('convertToInteractive',\n",
              "                                                     [key], {});\n",
              "          if (!dataTable) return;\n",
              "\n",
              "          const docLinkHtml = 'Like what you see? Visit the ' +\n",
              "            '<a target=\"_blank\" href=https://colab.research.google.com/notebooks/data_table.ipynb>data table notebook</a>'\n",
              "            + ' to learn more about interactive tables.';\n",
              "          element.innerHTML = '';\n",
              "          dataTable['output_type'] = 'display_data';\n",
              "          await google.colab.output.renderOutput(dataTable, element);\n",
              "          const docLink = document.createElement('div');\n",
              "          docLink.innerHTML = docLinkHtml;\n",
              "          element.appendChild(docLink);\n",
              "        }\n",
              "      </script>\n",
              "    </div>\n",
              "  </div>\n",
              "  "
            ]
          },
          "metadata": {},
          "execution_count": 5
        }
      ],
      "source": [
        "uud.head()"
      ]
    },
    {
      "cell_type": "markdown",
      "metadata": {
        "id": "-7YPVVis8jY3"
      },
      "source": [
        "### Ultra Topics Data (utd)"
      ]
    },
    {
      "cell_type": "markdown",
      "metadata": {
        "id": "HfD9Ftwg8qxC"
      },
      "source": [
        "Ultra Topics Data (utd) содержит данные о постах, а точнее о реакциях на посты:\n",
        "\n",
        "\n",
        "*  likes - количество поставленных лайков\n",
        "*  dislikes - количество поставленных дизлайков\n",
        "*  reactions - количество поставленных реакций (train.csv)\n",
        "\n"
      ]
    },
    {
      "cell_type": "code",
      "execution_count": 6,
      "metadata": {
        "id": "VYn2azors6y4"
      },
      "outputs": [],
      "source": [
        "topic_likes = train_df[train_df['feedback'] == 'L'].groupby(by=['topicId']).size().reset_index()\n",
        "topic_dislikes = train_df[train_df['feedback'] == 'D'].groupby(by=['topicId']).size().reset_index()\n",
        "\n",
        "utd = topics_df['topicId'].to_frame().merge(topic_likes, on='topicId', how='left')\n",
        "utd = utd.merge(topic_dislikes, on='topicId', how='left')\n",
        "\n",
        "utd = utd.fillna(0).rename(columns={'0_x': 'likes',\n",
        "                                    '0_y': 'dislikes'})\n",
        "\n",
        "utd['reactions'] = utd['likes'] + utd['dislikes']"
      ]
    },
    {
      "cell_type": "code",
      "execution_count": 7,
      "metadata": {
        "colab": {
          "base_uri": "https://localhost:8080/",
          "height": 206
        },
        "id": "EGEov7i48Pr8",
        "outputId": "cc240e5b-353d-4a0a-df24-da9c405e1c22"
      },
      "outputs": [
        {
          "output_type": "execute_result",
          "data": {
            "text/plain": [
              "   topicId  likes  dislikes  reactions\n",
              "0   190991    1.0       0.0        1.0\n",
              "1     2718  287.0     443.0      730.0\n",
              "2    49923   13.0      14.0       27.0\n",
              "3   124548    4.0       0.0        4.0\n",
              "4    45289    8.0      23.0       31.0"
            ],
            "text/html": [
              "\n",
              "  <div id=\"df-fd124776-7da5-483c-b750-d6ee5fe15f13\">\n",
              "    <div class=\"colab-df-container\">\n",
              "      <div>\n",
              "<style scoped>\n",
              "    .dataframe tbody tr th:only-of-type {\n",
              "        vertical-align: middle;\n",
              "    }\n",
              "\n",
              "    .dataframe tbody tr th {\n",
              "        vertical-align: top;\n",
              "    }\n",
              "\n",
              "    .dataframe thead th {\n",
              "        text-align: right;\n",
              "    }\n",
              "</style>\n",
              "<table border=\"1\" class=\"dataframe\">\n",
              "  <thead>\n",
              "    <tr style=\"text-align: right;\">\n",
              "      <th></th>\n",
              "      <th>topicId</th>\n",
              "      <th>likes</th>\n",
              "      <th>dislikes</th>\n",
              "      <th>reactions</th>\n",
              "    </tr>\n",
              "  </thead>\n",
              "  <tbody>\n",
              "    <tr>\n",
              "      <th>0</th>\n",
              "      <td>190991</td>\n",
              "      <td>1.0</td>\n",
              "      <td>0.0</td>\n",
              "      <td>1.0</td>\n",
              "    </tr>\n",
              "    <tr>\n",
              "      <th>1</th>\n",
              "      <td>2718</td>\n",
              "      <td>287.0</td>\n",
              "      <td>443.0</td>\n",
              "      <td>730.0</td>\n",
              "    </tr>\n",
              "    <tr>\n",
              "      <th>2</th>\n",
              "      <td>49923</td>\n",
              "      <td>13.0</td>\n",
              "      <td>14.0</td>\n",
              "      <td>27.0</td>\n",
              "    </tr>\n",
              "    <tr>\n",
              "      <th>3</th>\n",
              "      <td>124548</td>\n",
              "      <td>4.0</td>\n",
              "      <td>0.0</td>\n",
              "      <td>4.0</td>\n",
              "    </tr>\n",
              "    <tr>\n",
              "      <th>4</th>\n",
              "      <td>45289</td>\n",
              "      <td>8.0</td>\n",
              "      <td>23.0</td>\n",
              "      <td>31.0</td>\n",
              "    </tr>\n",
              "  </tbody>\n",
              "</table>\n",
              "</div>\n",
              "      <button class=\"colab-df-convert\" onclick=\"convertToInteractive('df-fd124776-7da5-483c-b750-d6ee5fe15f13')\"\n",
              "              title=\"Convert this dataframe to an interactive table.\"\n",
              "              style=\"display:none;\">\n",
              "        \n",
              "  <svg xmlns=\"http://www.w3.org/2000/svg\" height=\"24px\"viewBox=\"0 0 24 24\"\n",
              "       width=\"24px\">\n",
              "    <path d=\"M0 0h24v24H0V0z\" fill=\"none\"/>\n",
              "    <path d=\"M18.56 5.44l.94 2.06.94-2.06 2.06-.94-2.06-.94-.94-2.06-.94 2.06-2.06.94zm-11 1L8.5 8.5l.94-2.06 2.06-.94-2.06-.94L8.5 2.5l-.94 2.06-2.06.94zm10 10l.94 2.06.94-2.06 2.06-.94-2.06-.94-.94-2.06-.94 2.06-2.06.94z\"/><path d=\"M17.41 7.96l-1.37-1.37c-.4-.4-.92-.59-1.43-.59-.52 0-1.04.2-1.43.59L10.3 9.45l-7.72 7.72c-.78.78-.78 2.05 0 2.83L4 21.41c.39.39.9.59 1.41.59.51 0 1.02-.2 1.41-.59l7.78-7.78 2.81-2.81c.8-.78.8-2.07 0-2.86zM5.41 20L4 18.59l7.72-7.72 1.47 1.35L5.41 20z\"/>\n",
              "  </svg>\n",
              "      </button>\n",
              "      \n",
              "  <style>\n",
              "    .colab-df-container {\n",
              "      display:flex;\n",
              "      flex-wrap:wrap;\n",
              "      gap: 12px;\n",
              "    }\n",
              "\n",
              "    .colab-df-convert {\n",
              "      background-color: #E8F0FE;\n",
              "      border: none;\n",
              "      border-radius: 50%;\n",
              "      cursor: pointer;\n",
              "      display: none;\n",
              "      fill: #1967D2;\n",
              "      height: 32px;\n",
              "      padding: 0 0 0 0;\n",
              "      width: 32px;\n",
              "    }\n",
              "\n",
              "    .colab-df-convert:hover {\n",
              "      background-color: #E2EBFA;\n",
              "      box-shadow: 0px 1px 2px rgba(60, 64, 67, 0.3), 0px 1px 3px 1px rgba(60, 64, 67, 0.15);\n",
              "      fill: #174EA6;\n",
              "    }\n",
              "\n",
              "    [theme=dark] .colab-df-convert {\n",
              "      background-color: #3B4455;\n",
              "      fill: #D2E3FC;\n",
              "    }\n",
              "\n",
              "    [theme=dark] .colab-df-convert:hover {\n",
              "      background-color: #434B5C;\n",
              "      box-shadow: 0px 1px 3px 1px rgba(0, 0, 0, 0.15);\n",
              "      filter: drop-shadow(0px 1px 2px rgba(0, 0, 0, 0.3));\n",
              "      fill: #FFFFFF;\n",
              "    }\n",
              "  </style>\n",
              "\n",
              "      <script>\n",
              "        const buttonEl =\n",
              "          document.querySelector('#df-fd124776-7da5-483c-b750-d6ee5fe15f13 button.colab-df-convert');\n",
              "        buttonEl.style.display =\n",
              "          google.colab.kernel.accessAllowed ? 'block' : 'none';\n",
              "\n",
              "        async function convertToInteractive(key) {\n",
              "          const element = document.querySelector('#df-fd124776-7da5-483c-b750-d6ee5fe15f13');\n",
              "          const dataTable =\n",
              "            await google.colab.kernel.invokeFunction('convertToInteractive',\n",
              "                                                     [key], {});\n",
              "          if (!dataTable) return;\n",
              "\n",
              "          const docLinkHtml = 'Like what you see? Visit the ' +\n",
              "            '<a target=\"_blank\" href=https://colab.research.google.com/notebooks/data_table.ipynb>data table notebook</a>'\n",
              "            + ' to learn more about interactive tables.';\n",
              "          element.innerHTML = '';\n",
              "          dataTable['output_type'] = 'display_data';\n",
              "          await google.colab.output.renderOutput(dataTable, element);\n",
              "          const docLink = document.createElement('div');\n",
              "          docLink.innerHTML = docLinkHtml;\n",
              "          element.appendChild(docLink);\n",
              "        }\n",
              "      </script>\n",
              "    </div>\n",
              "  </div>\n",
              "  "
            ]
          },
          "metadata": {},
          "execution_count": 7
        }
      ],
      "source": [
        "utd.head()"
      ]
    },
    {
      "cell_type": "markdown",
      "metadata": {
        "id": "m1aQK9vi7ikn"
      },
      "source": [
        "### User-Topic DataFrame (ut_df)"
      ]
    },
    {
      "cell_type": "markdown",
      "metadata": {
        "id": "rq-Th8BI7qxQ"
      },
      "source": [
        "User-Topic DataFrame (ut_df) содержит информацию о постах, на которые отреагировал пользователь в **тестовой выборке**. Имеет вид: \"Id пользователя\" - [список постов]"
      ]
    },
    {
      "cell_type": "code",
      "execution_count": 8,
      "metadata": {
        "colab": {
          "base_uri": "https://localhost:8080/"
        },
        "id": "fhzK1ygq7ptf",
        "outputId": "0477fdc9-d902-40cd-8c67-f934f71539b1"
      },
      "outputs": [
        {
          "output_type": "execute_result",
          "data": {
            "text/plain": [
              "userId\n",
              "0    [71366, 28, 126735, 78342, 44912, 9707, 6319, ...\n",
              "1    [48810, 21078, 11916, 6169, 16519, 107, 60779,...\n",
              "2    [20470, 8119, 20063, 4490, 3855, 66358, 1175, ...\n",
              "3    [19424, 5523, 14970, 8003, 4750, 76414, 57860,...\n",
              "4    [22525, 52245, 10401, 23133, 25490, 21679, 391...\n",
              "Name: topicId, dtype: object"
            ]
          },
          "metadata": {},
          "execution_count": 8
        }
      ],
      "source": [
        "ut_df = test_df.groupby(['userId'])['topicId'].apply(lambda x: x.values.tolist())\n",
        "\n",
        "ut_df.head()"
      ]
    },
    {
      "cell_type": "markdown",
      "metadata": {
        "id": "2kdV9JuS9rXP"
      },
      "source": [
        "## А Н А Л И З"
      ]
    },
    {
      "cell_type": "markdown",
      "source": [
        "### А Н О М А Л И И"
      ],
      "metadata": {
        "id": "Xm3KGG7rSBEt"
      }
    },
    {
      "cell_type": "code",
      "source": [
        "uud[(uud['test_reactions'] == 0) & (uud['reactions'] == 1)][['likes', 'dislikes']].value_counts()"
      ],
      "metadata": {
        "colab": {
          "base_uri": "https://localhost:8080/"
        },
        "id": "XEsS0ltIS1rZ",
        "outputId": "8156acee-4eb0-44a5-9088-c3dd30049e57"
      },
      "execution_count": 84,
      "outputs": [
        {
          "output_type": "execute_result",
          "data": {
            "text/plain": [
              "likes  dislikes\n",
              "1.0    0.0         116375\n",
              "0.0    1.0          19232\n",
              "dtype: int64"
            ]
          },
          "metadata": {},
          "execution_count": 84
        }
      ]
    },
    {
      "cell_type": "code",
      "source": [
        "print(len(uud[(uud['test_reactions'] == 0) & (uud['likes'] == uud['dislikes'])]))\n",
        "print(uud[(uud['test_reactions'] == 0) & (uud['likes'] == uud['dislikes'])][['likes', 'dislikes']].value_counts())"
      ],
      "metadata": {
        "colab": {
          "base_uri": "https://localhost:8080/"
        },
        "id": "6ewrCEcnR2Qq",
        "outputId": "13cc343e-cabd-4df6-8589-923736a5a99f"
      },
      "execution_count": 82,
      "outputs": [
        {
          "output_type": "stream",
          "name": "stdout",
          "text": [
            "1535405\n",
            "likes  dislikes\n",
            "1.0    1.0         968874\n",
            "2.0    2.0         300862\n",
            "3.0    3.0         126790\n",
            "4.0    4.0          61193\n",
            "5.0    5.0          31991\n",
            "6.0    6.0          18018\n",
            "7.0    7.0          10524\n",
            "8.0    8.0           6237\n",
            "9.0    9.0           3869\n",
            "10.0   10.0          2458\n",
            "11.0   11.0          1506\n",
            "12.0   12.0          1037\n",
            "13.0   13.0           657\n",
            "14.0   14.0           458\n",
            "15.0   15.0           295\n",
            "16.0   16.0           189\n",
            "17.0   17.0           141\n",
            "18.0   18.0            89\n",
            "19.0   19.0            61\n",
            "20.0   20.0            48\n",
            "21.0   21.0            33\n",
            "22.0   22.0            18\n",
            "23.0   23.0            15\n",
            "24.0   24.0            12\n",
            "25.0   25.0            12\n",
            "27.0   27.0             8\n",
            "26.0   26.0             3\n",
            "30.0   30.0             2\n",
            "34.0   34.0             2\n",
            "29.0   29.0             1\n",
            "35.0   35.0             1\n",
            "36.0   36.0             1\n",
            "dtype: int64\n"
          ]
        }
      ]
    },
    {
      "cell_type": "markdown",
      "source": [
        "Т.к. аномально много пользователей, которые поставили равное количество лайков и дизлайков, будем считать их за **ботов**\n",
        "\n",
        "От этого будем отталкиваться при создании групп"
      ],
      "metadata": {
        "id": "uIuK2SjZSQXz"
      }
    },
    {
      "cell_type": "markdown",
      "metadata": {
        "id": "t_C8pcfx9Iq1"
      },
      "source": [
        "### Создание бассейна"
      ]
    },
    {
      "cell_type": "code",
      "execution_count": 41,
      "metadata": {
        "id": "gaBLlrVq-Ce1"
      },
      "outputs": [],
      "source": [
        "pool = uud[uud['test_reactions'] > 0]"
      ]
    },
    {
      "cell_type": "markdown",
      "metadata": {
        "id": "WIE-622mAnFO"
      },
      "source": [
        "### Разделение бассейна на группы"
      ]
    },
    {
      "cell_type": "markdown",
      "source": [
        "Первая группа: пользователи у которых 0 реакций в train.csv и одна реакция в test.csv (ставим как лайк)"
      ],
      "metadata": {
        "id": "Ac9hZ1q5NzvK"
      }
    },
    {
      "cell_type": "code",
      "execution_count": 42,
      "metadata": {
        "id": "w-dNWFXt_gLO"
      },
      "outputs": [],
      "source": [
        "group1 = pool[(pool['test_reactions'] == 1) & (pool['reactions'] == 0)]\n",
        "\n",
        "pool = pool[~((pool['test_reactions'] == 1) & (pool['reactions'] == 0))]"
      ]
    },
    {
      "cell_type": "markdown",
      "metadata": {
        "id": "RORykpB0Aeu7"
      },
      "source": [
        "Вторая группа: пользователи у которых большое соотношение лайков и дизлайков (больше чем 2:1)\n",
        "\n",
        "Этим пользователям ставим те реакции, которых больше"
      ]
    },
    {
      "cell_type": "code",
      "execution_count": 43,
      "metadata": {
        "id": "MkP3VdBq_ExU"
      },
      "outputs": [],
      "source": [
        "group2 = pool[((abs(pool['likes'] - pool['dislikes']) / pool['reactions'] > 0.5)) & (pool['total_reactions'] >= 8)]\n",
        "\n",
        "pool = pool[~(((abs(pool['likes'] - pool['dislikes']) / pool['reactions'] > 0.5)) & (pool['total_reactions'] >= 8))]"
      ]
    },
    {
      "cell_type": "markdown",
      "source": [
        "Третья группа: пользователи у которых известно, что все пропущенные реакции это либо только лайки, либо только дизлайки (боты, у которых легко выделить реакции)"
      ],
      "metadata": {
        "id": "jjep9YN6OySv"
      }
    },
    {
      "cell_type": "code",
      "execution_count": 44,
      "metadata": {
        "id": "Y1SYUcEW-TnH"
      },
      "outputs": [],
      "source": [
        "group3 = pool[abs(pool['likes'] - pool['dislikes']) == pool['test_reactions']]\n",
        "\n",
        "pool = pool[~(abs(pool['likes'] - pool['dislikes']) == pool['test_reactions'])]"
      ]
    },
    {
      "cell_type": "markdown",
      "source": [
        "Четвёртая группа: пользователи у которых сложнее выделить определённую реакцию (боты, у которых сложно выделить реакции)"
      ],
      "metadata": {
        "id": "iVUe6jt5PNTn"
      }
    },
    {
      "cell_type": "code",
      "execution_count": 45,
      "metadata": {
        "id": "RjiRn12l-UF0"
      },
      "outputs": [],
      "source": [
        "group4 = pool[(pool['total_reactions'] % 2 == 0) & (abs(pool['dislikes'] - pool['likes']) < pool['test_reactions'])]\n",
        "pool = pool[~((pool['total_reactions'] % 2 == 0) & (abs(pool['dislikes'] - pool['likes']) < pool['test_reactions']))]"
      ]
    },
    {
      "cell_type": "markdown",
      "source": [
        "Пятая группа: все остальные"
      ],
      "metadata": {
        "id": "EOkNuhT5PcVs"
      }
    },
    {
      "cell_type": "code",
      "execution_count": 46,
      "metadata": {
        "id": "NFxGpG1UNPou"
      },
      "outputs": [],
      "source": [
        "group5 = pool"
      ]
    },
    {
      "cell_type": "code",
      "execution_count": 47,
      "metadata": {
        "colab": {
          "base_uri": "https://localhost:8080/"
        },
        "id": "_RK8ZuxWNQKn",
        "outputId": "e15b89b3-e12f-4615-aab1-812ee0434f61"
      },
      "outputs": [
        {
          "output_type": "stream",
          "name": "stdout",
          "text": [
            "15035 15035.0\n",
            "14344 52438.0\n",
            "689523 788999.0\n",
            "203694 664765.0\n",
            "29455 57565.0\n"
          ]
        }
      ],
      "source": [
        "print(len(group1), group1['test_reactions'].sum())\n",
        "print(len(group2), group2['test_reactions'].sum())\n",
        "print(len(group3), group3['test_reactions'].sum())\n",
        "print(len(group4), group4['test_reactions'].sum())\n",
        "print(len(group5), group5['test_reactions'].sum())"
      ]
    },
    {
      "cell_type": "markdown",
      "metadata": {
        "id": "o3l5zvzgOyT3"
      },
      "source": [
        "### Получение ответов на каждую из групп"
      ]
    },
    {
      "cell_type": "markdown",
      "source": [
        "Первая группа: объяснено выше"
      ],
      "metadata": {
        "id": "LCMpsss4PoFE"
      }
    },
    {
      "cell_type": "code",
      "execution_count": 64,
      "metadata": {
        "id": "ziFEJUT-QOtO"
      },
      "outputs": [],
      "source": [
        "group1['answers'] = 'L'\n",
        "answers1 = group1[['userId', 'answers']]"
      ]
    },
    {
      "cell_type": "markdown",
      "source": [
        "Вторая группа: объяснено выше"
      ],
      "metadata": {
        "id": "QIYqiAXgPsrR"
      }
    },
    {
      "cell_type": "code",
      "source": [
        "answers2 = group2['likes'] > group2['dislikes']\n",
        "\n",
        "answers2[answers2 == True] = 'L'\n",
        "answers2[answers2 == False] = 'D'\n",
        "\n",
        "answers2 = pd.concat([group2['userId'], answers2], axis=1).rename(columns={0: 'answers'})"
      ],
      "metadata": {
        "id": "yDPPmkpkJNzc"
      },
      "execution_count": 65,
      "outputs": []
    },
    {
      "cell_type": "markdown",
      "source": [
        "Третья группа: где больше лайков, там ставим дизлайки и наоборот"
      ],
      "metadata": {
        "id": "RuGix2gVPv8w"
      }
    },
    {
      "cell_type": "code",
      "source": [
        "answers3 = group3['likes'] < group3['dislikes']\n",
        "\n",
        "answers3[answers3 == True] = 'L'\n",
        "answers3[answers3 == False] = 'D'\n",
        "\n",
        "answers3 = pd.concat([group3['userId'], answers3], axis=1).rename(columns={0: 'answers'})"
      ],
      "metadata": {
        "id": "LCrbOaAAK9wq"
      },
      "execution_count": 66,
      "outputs": []
    },
    {
      "cell_type": "markdown",
      "source": [
        "Пятая группа: где больше лайков, там ставим лайки и наоборот"
      ],
      "metadata": {
        "id": "HvqIYMwiP6wY"
      }
    },
    {
      "cell_type": "code",
      "source": [
        "answers5 = group5['likes'] >= group5['dislikes']\n",
        "\n",
        "answers5[answers5 == True] = 'L'\n",
        "answers5[answers5 == False] = 'D'\n",
        "\n",
        "answers5 = pd.concat([group5['userId'], answers5], axis=1).rename(columns={0: 'answers'})"
      ],
      "metadata": {
        "id": "_TB1sB8iLQEP"
      },
      "execution_count": 67,
      "outputs": []
    },
    {
      "cell_type": "code",
      "execution_count": 68,
      "metadata": {
        "id": "fiwLYiZaVBJu"
      },
      "outputs": [],
      "source": [
        "answers_dict = {}"
      ]
    },
    {
      "cell_type": "code",
      "execution_count": 69,
      "metadata": {
        "id": "XgPxiDkjPSV4"
      },
      "outputs": [],
      "source": [
        "def cool_func(eval_df):\n",
        "    reaction_dict = {}\n",
        "    for index, row in tqdm(eval_df.iterrows(), total=eval_df.shape[0]):\n",
        "\n",
        "        uid = int(row['userId'])\n",
        "        reaction = str(row['answers'])\n",
        "        posts = ut_df[uid]\n",
        "\n",
        "        reaction_dict[uid] = dict(zip(posts, [reaction] * len(posts)))\n",
        "\n",
        "    answers_dict.update(reaction_dict)\n",
        "        \n"
      ]
    },
    {
      "cell_type": "code",
      "execution_count": 70,
      "metadata": {
        "colab": {
          "base_uri": "https://localhost:8080/"
        },
        "id": "yaLQMxCCXHHf",
        "outputId": "73a88e41-87f9-4afb-de2b-bdd5c9e2de47"
      },
      "outputs": [
        {
          "output_type": "stream",
          "name": "stderr",
          "text": [
            "100%|██████████| 15035/15035 [00:01<00:00, 12948.75it/s]\n",
            "100%|██████████| 14344/14344 [00:01<00:00, 11276.37it/s]\n",
            "100%|██████████| 689523/689523 [00:43<00:00, 16011.30it/s]\n"
          ]
        }
      ],
      "source": [
        "cool_func(answers1)\n",
        "cool_func(answers2)\n",
        "cool_func(answers3)"
      ]
    },
    {
      "cell_type": "markdown",
      "source": [
        "Четвертая группа: ну тут алгоритм мне лень расписывать, basically на каком из постов больше дизлайков, на тот пост и поставят дизлайк (да, коряво объяснено, устно объяснить намного легче)"
      ],
      "metadata": {
        "id": "NJERwJIpQQjA"
      }
    },
    {
      "cell_type": "code",
      "execution_count": 71,
      "metadata": {
        "colab": {
          "base_uri": "https://localhost:8080/"
        },
        "id": "GdDx1Um7YN8t",
        "outputId": "8161cd2e-4ad2-408c-d9e7-eccf117dc519"
      },
      "outputs": [
        {
          "output_type": "stream",
          "name": "stderr",
          "text": [
            "100%|██████████| 203694/203694 [08:41<00:00, 390.39it/s]\n"
          ]
        }
      ],
      "source": [
        "for index, row in tqdm(group4.iterrows(), total=group4.shape[0]):\n",
        "    n_d = ((int(row['reactions']) + int(row['test_reactions'])) // 2) - int(row['dislikes'])\n",
        "\n",
        "    uid = int(row['userId'])\n",
        "    posts = ut_df[uid]\n",
        "\n",
        "    pool = []\n",
        "    for post in posts:\n",
        "        reaction = int(utd[utd['topicId'] == post]['dislikes'])\n",
        "\n",
        "        pool.append([post, reaction])\n",
        "    pool = np.array(sorted(pool, key=lambda x: x[1], reverse=True))\n",
        "\n",
        "    dislikes = pool[:n_d, 0]\n",
        "    dislike_dict = dict(zip(dislikes, ['D'] * len(dislikes)))\n",
        "\n",
        "    likes = pool[n_d:, 0]\n",
        "    like_dict = dict(zip(likes, ['L'] * len(likes)))\n",
        "\n",
        "    pred_reaction_dict = dict(like_dict)\n",
        "    pred_reaction_dict.update(dislike_dict)\n",
        "    answers_dict[uid] = pred_reaction_dict"
      ]
    },
    {
      "cell_type": "code",
      "execution_count": 72,
      "metadata": {
        "colab": {
          "base_uri": "https://localhost:8080/"
        },
        "id": "YrvIriL9ZltW",
        "outputId": "08f933ed-7769-497d-80e9-3fd3adf8d44b"
      },
      "outputs": [
        {
          "output_type": "stream",
          "name": "stderr",
          "text": [
            "100%|██████████| 29455/29455 [00:03<00:00, 9264.39it/s] \n"
          ]
        }
      ],
      "source": [
        "cool_func(answers5)"
      ]
    },
    {
      "cell_type": "code",
      "execution_count": 73,
      "metadata": {
        "colab": {
          "base_uri": "https://localhost:8080/"
        },
        "id": "CfMYhKgFZoSx",
        "outputId": "5bb9aa0a-9728-4725-f954-feaab9bf88a3"
      },
      "outputs": [
        {
          "output_type": "stream",
          "name": "stdout",
          "text": [
            "952051\n",
            "952051\n",
            "952051\n",
            "952051\n"
          ]
        }
      ],
      "source": [
        "print(len(answers_dict))\n",
        "print(len(group1) + len(group2) + len(group3) + len(group4) + len(group5))\n",
        "print(len(uud[uud['test_reactions'] > 0]))\n",
        "print(test_df['userId'].nunique())"
      ]
    },
    {
      "cell_type": "code",
      "execution_count": 74,
      "metadata": {
        "id": "I6oTLU4cZz8S"
      },
      "outputs": [],
      "source": [
        "answers_list = [''] * len(test_df)"
      ]
    },
    {
      "cell_type": "code",
      "execution_count": 75,
      "metadata": {
        "colab": {
          "base_uri": "https://localhost:8080/"
        },
        "id": "bqAepHWhZwAg",
        "outputId": "bddb5c2d-95d7-46ca-ae89-7e7a8b13694c"
      },
      "outputs": [
        {
          "output_type": "stream",
          "name": "stderr",
          "text": [
            "100%|██████████| 1578802/1578802 [05:16<00:00, 4995.37it/s]\n"
          ]
        }
      ],
      "source": [
        "for i in tqdm(range(len(test_df))):\n",
        "    uid = test_df.loc[i]['userId']\n",
        "    tid = test_df.loc[i]['topicId']\n",
        "    if uid in answers_dict:\n",
        "        answers_list[i] = answers_dict[uid][tid]\n"
      ]
    },
    {
      "cell_type": "code",
      "execution_count": 76,
      "metadata": {
        "colab": {
          "base_uri": "https://localhost:8080/"
        },
        "id": "e3YxrCRGcvQy",
        "outputId": "e3ef67c0-c346-4849-a00a-ad21ab910ea3"
      },
      "outputs": [
        {
          "output_type": "stream",
          "name": "stdout",
          "text": [
            "1578802\n",
            "1578802\n"
          ]
        }
      ],
      "source": [
        "print(len(answers_list))\n",
        "print(len(test_df))"
      ]
    },
    {
      "cell_type": "code",
      "execution_count": 77,
      "metadata": {
        "colab": {
          "base_uri": "https://localhost:8080/"
        },
        "id": "jiHREd7Rcxj6",
        "outputId": "340cb2b1-1b4c-48da-a6eb-603c87083b44"
      },
      "outputs": [
        {
          "output_type": "stream",
          "name": "stdout",
          "text": [
            "['D', 'L', 'L', 'L', 'D', 'D', 'D', 'L', 'D', 'D', 'L', 'D', 'L', 'D', 'D', 'L', 'L', 'D', 'L', 'D', 'L', 'L', 'L', 'L', 'D', 'L', 'L', 'D', 'L', 'D', 'L', 'L', 'L', 'L', 'D', 'D', 'D', 'L', 'L', 'L', 'D', 'L', 'D', 'D', 'L', 'L', 'D', 'D', 'L', 'D', 'L', 'L', 'D', 'D', 'D', 'D', 'L', 'D', 'D', 'L', 'D', 'D', 'L', 'L', 'L', 'D', 'L', 'D', 'D', 'L', 'L', 'D', 'L', 'D', 'L', 'D', 'L', 'D', 'D', 'L', 'L', 'L', 'D', 'L', 'L', 'L', 'L', 'D', 'L', 'D', 'D', 'L', 'D', 'D', 'L', 'L', 'L', 'D', 'D', 'L']\n"
          ]
        }
      ],
      "source": [
        "print(answers_list[:100])"
      ]
    },
    {
      "cell_type": "code",
      "execution_count": 78,
      "metadata": {
        "id": "avgtLuhxaHPp"
      },
      "outputs": [],
      "source": [
        "with open(main_path + 'final_answer.txt', 'w+') as f:\n",
        "    f.write('\\n'.join(answers_list))"
      ]
    }
  ],
  "metadata": {
    "colab": {
      "provenance": []
    },
    "kernelspec": {
      "display_name": "Python 3",
      "name": "python3"
    },
    "language_info": {
      "name": "python"
    }
  },
  "nbformat": 4,
  "nbformat_minor": 0
}